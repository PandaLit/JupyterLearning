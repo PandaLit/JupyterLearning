{
 "cells": [
  {
   "cell_type": "code",
   "execution_count": 36,
   "metadata": {},
   "outputs": [
    {
     "name": "stdout",
     "output_type": "stream",
     "text": [
      "['Dog', 'Cat', 'Bunny', 'Gorilla', 'Fish']\n",
      "3\n",
      "3\n",
      "5\n",
      "7\n",
      "4\n",
      "5\n"
     ]
    }
   ],
   "source": [
    "\n",
    "animals = [\"Dog\", \"Cat\", \"Bunny\", \"Gorilla\", \"Fish\"]\n",
    "#the len function tells the number of characters/words in a list!\n",
    "x = len(\"Dog\")\n",
    "x2 = len(\"Cat\")\n",
    "x3 = len(\"Bunny\")\n",
    "x4 = len(\"Gorilla\")\n",
    "x5 = len(\"Fish\")\n",
    "y = len(animals)\n",
    "\n",
    "print(animals)\n",
    "print(x)\n",
    "print(x2)\n",
    "print(x3)\n",
    "print(x4)\n",
    "print(x5)\n",
    "print(y)\n",
    "\n"
   ]
  },
  {
   "cell_type": "code",
   "execution_count": null,
   "metadata": {},
   "outputs": [],
   "source": []
  }
 ],
 "metadata": {
  "kernelspec": {
   "display_name": "Python 3.7 (tensorflow)",
   "language": "python",
   "name": "tensorflow"
  },
  "language_info": {
   "codemirror_mode": {
    "name": "ipython",
    "version": 3
   },
   "file_extension": ".py",
   "mimetype": "text/x-python",
   "name": "python",
   "nbconvert_exporter": "python",
   "pygments_lexer": "ipython3",
   "version": "3.8.5"
  }
 },
 "nbformat": 4,
 "nbformat_minor": 4
}
